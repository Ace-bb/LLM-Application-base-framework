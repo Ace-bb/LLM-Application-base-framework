{
 "cells": [
  {
   "cell_type": "code",
   "execution_count": null,
   "metadata": {},
   "outputs": [],
   "source": [
    "!pip install -r requirements.txt"
   ]
  },
  {
   "cell_type": "code",
   "execution_count": null,
   "metadata": {},
   "outputs": [],
   "source": [
    "from LLM.llm import LLM\n",
    "\n",
    "from conf.Tools import Tools\n",
    "tools = Tools()"
   ]
  },
  {
   "cell_type": "markdown",
   "metadata": {},
   "source": [
    "## 将App builder中获取的应用转换成标准的JSON schema格式，并对description进行优化"
   ]
  },
  {
   "cell_type": "code",
   "execution_count": null,
   "metadata": {},
   "outputs": [],
   "source": [
    "import json\n",
    "import os\n",
    "\n",
    "os.environ['OPENAI_API_BASE'] = \"https://fast.xeduapi.com/v1\"\n",
    "os.environ['OPENAI_API_KEY'] = \"sk-jz0shLgMJY9HBVnLC3Fe3dCaA5204a418e67003f637f1eFf\"\n",
    "from tqdm import tqdm\n",
    "function_data = tools.read_json(\"./datas/all_functions.json\")\n",
    "\n",
    "llm = LLM()\n",
    "llm.setTemplate(temp=template, values=[\"description\"])\n",
    "genereated_json = list()\n",
    "for item in tqdm(function_data):\n",
    "    res = llm.run({\"description\": item})\n",
    "    try:\n",
    "        genereated_json.append(json.loads(res.replace('```json', '').replace('```', '')))\n",
    "    except:\n",
    "        genereated_json.append(res)\n",
    "\n",
    "tools.write_2_json(genereated_json, \"./datas/genereated_json.json\")"
   ]
  },
  {
   "cell_type": "markdown",
   "metadata": {},
   "source": [
    "## 生成输入输出的数据，每个Function先生成一个QA\n"
   ]
  },
  {
   "cell_type": "code",
   "execution_count": null,
   "metadata": {},
   "outputs": [],
   "source": [
    "import json\n",
    "import os\n",
    "\n",
    "os.environ['OPENAI_API_BASE'] = \"https://api.xeduapi.com\"\n",
    "os.environ['OPENAI_API_KEY'] = \"sk-jz0shLgMJY9HBVnLC3Fe3dCaA5204a418e67003f637f1eFf\"\n",
    "from tqdm import tqdm\n",
    "\n",
    "function_data = tools.read_json(\"./datas/genereated_json.json\")\n",
    "\n",
    "llm = LLM()\n",
    "llm.setTemplate(temp=qa_generate_template, values=[\"function_intro\"])\n",
    "genereated_qa_json = list()\n",
    "for item in tqdm(function_data):\n",
    "    res = llm.run({\"function_intro\": item})\n",
    "    try:\n",
    "        genereated_qa_json.append(json.loads(res.replace('```json', '').replace('```', '')))\n",
    "    except:\n",
    "        genereated_qa_json.append(res)\n",
    "\n",
    "tools.write_2_json(genereated_qa_json, \"./datas/genereated_qa_json.json\")"
   ]
  },
  {
   "cell_type": "markdown",
   "metadata": {},
   "source": [
    "## 批量生成QA"
   ]
  },
  {
   "cell_type": "code",
   "execution_count": null,
   "metadata": {},
   "outputs": [],
   "source": [
    "from LLM.llm import LLM\n",
    "\n",
    "from conf.Tools import Tools\n",
    "tools = Tools()"
   ]
  },
  {
   "cell_type": "code",
   "execution_count": null,
   "metadata": {},
   "outputs": [],
   "source": [
    "def format_checker(function, input_parameters):\n",
    "    assert function[\"name\"] == input_parameters[\"function_name\"]\n",
    "    required_properties = function[\"parameters\"][\"required\"]\n",
    "    for k in required_properties:\n",
    "        assert k in input_parameters[\"arguments\"].keys()\n",
    "    \n",
    "    llm = LLM()\n",
    "    llm.setTemplate(temp=\"\"\"下面给你一个函数的描述，其中包括需要传入的参数信息。你需要判断给定的参数是否符合这个函数的参数要求，符合返回True，不符合返回False。\n",
    "\n",
    "# 函数描述\n",
    "{function}\n",
    "\n",
    "# 给定的参数\n",
    "{para}\n",
    "\n",
    "# 给定的参数是否符合函数描述中的参数要求：\"\"\", values = [\"function\", \"para\"])\n",
    "    llm.run({\"function\": function, \"para\": input_parameters})\n",
    "    return True\n"
   ]
  },
  {
   "cell_type": "code",
   "execution_count": null,
   "metadata": {},
   "outputs": [],
   "source": [
    "import json, sys\n",
    "from tqdm import tqdm\n",
    "import traceback\n",
    "\n",
    "def generate_function_qa(item, llm):\n",
    "    cur_function_qas = list()\n",
    "    cur_function_qas.append(item)\n",
    "    for i in tqdm(range(30)):\n",
    "        tn = 5\n",
    "        # while tn>0:\n",
    "            # try:\n",
    "        try:\n",
    "            print([f\"{qid}. {q['question']}\" for qid,q in enumerate(cur_function_qas)])\n",
    "        except:\n",
    "            print(cur_function_qas)\n",
    "        res = llm.run({\"function_intro\": item[\"function\"], \"questions\": \"\\n\".join([f\"{qid}. {q['question']}\" for qid,q in enumerate(cur_function_qas)])})\n",
    "        ge_f = json.loads(res.replace('```json', '').replace('```', ''))\n",
    "        if format_checker(ge_f[\"function\"][0], ge_f[\"input_parameters\"][0]):\n",
    "            cur_function_qas.append(ge_f)\n",
    "                # gn-=1\n",
    "            # except Exception as e:\n",
    "            #     print(f\"line: {sys._getframe().f_lineno}\\t {e} \\ntraceback.print_exc(): {traceback.print_exc()}\")\n",
    "            #     tn-=1\n",
    "            #     continue\n",
    "    return cur_function_qas"
   ]
  },
  {
   "cell_type": "code",
   "execution_count": null,
   "metadata": {},
   "outputs": [],
   "source": [
    "from conf.prompt import ICL_Generate_Prompt\n",
    "import json, sys\n",
    "qa_function_data = tools.read_json(\"/root/Projects/LLM-Application-base-framework/datas/genereated_qa_json1.json\")\n",
    "\n",
    "llm = LLM()\n",
    "llm.setTemplate(temp=ICL_Generate_Prompt, values=[\"questions\", \"function_intro\"])\n",
    "all_function_res_qas = list()\n",
    "run_paras = list()\n",
    "for _id, item in enumerate(qa_function_data[:]):\n",
    "    run_paras.append((item, llm))\n",
    "    continue\n",
    "    cur_function_qas = list()\n",
    "    cur_function_qas.append(item)\n",
    "\n",
    "    gn = 5\n",
    "    while gn>0:\n",
    "        print(gn)\n",
    "        # try:\n",
    "        res = llm.run({\"function_intro\": item[\"function\"], \"questions\": \"\\n\".join([f\"{qid}. {q['question']}\" for qid,q in enumerate(cur_function_qas)])})\n",
    "        ge_f = json.loads(res.replace('```json', '').replace('```', ''))\n",
    "        if format_checker(ge_f[\"function\"][0], ge_f[\"input_parameters\"][0]):\n",
    "            cur_function_qas.append(ge_f)\n",
    "            gn-=1\n",
    "        # except Exception as e:\n",
    "        #     print(f\"line: {sys._getframe().f_lineno}\\t {e}\")\n",
    "        #     print(res)\n",
    "        #     continue\n",
    "    \n",
    "    all_function_res_qas.append(cur_function_qas)\n",
    "\n",
    "all_function_res_qas = tools.multi_thread_run(12, generate_function_qa, run_paras, \"Generate\")\n",
    "tools.write_2_json(all_function_res_qas, f\"./datas/all_function_res_qas.json\")\n"
   ]
  },
  {
   "cell_type": "code",
   "execution_count": 2,
   "metadata": {},
   "outputs": [],
   "source": [
    "wf = open(f\"datas/all_function_res_qas/0.jsonl\", 'a+', encoding=\"utf-8\")\n",
    "wf.write(\"fffffffffffffffffffffffffffffffffffffff\\n\")\n",
    "wf.close()"
   ]
  }
 ],
 "metadata": {
  "kernelspec": {
   "display_name": "xtuner",
   "language": "python",
   "name": "python3"
  },
  "language_info": {
   "codemirror_mode": {
    "name": "ipython",
    "version": 3
   },
   "file_extension": ".py",
   "mimetype": "text/x-python",
   "name": "python",
   "nbconvert_exporter": "python",
   "pygments_lexer": "ipython3",
   "version": "3.10.14"
  }
 },
 "nbformat": 4,
 "nbformat_minor": 2
}
